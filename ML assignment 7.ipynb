{
  "nbformat": 4,
  "nbformat_minor": 0,
  "metadata": {
    "colab": {
      "provenance": [],
      "authorship_tag": "ABX9TyMMuwawpSN9igv1y86MH4Zy",
      "include_colab_link": true
    },
    "kernelspec": {
      "name": "python3",
      "display_name": "Python 3"
    },
    "language_info": {
      "name": "python"
    }
  },
  "cells": [
    {
      "cell_type": "markdown",
      "metadata": {
        "id": "view-in-github",
        "colab_type": "text"
      },
      "source": [
        "<a href=\"https://colab.research.google.com/github/AID3N-N/Ml-sample-project/blob/main/ML%20assignment%207.ipynb\" target=\"_parent\"><img src=\"https://colab.research.google.com/assets/colab-badge.svg\" alt=\"Open In Colab\"/></a>"
      ]
    },
    {
      "cell_type": "code",
      "execution_count": null,
      "metadata": {
        "id": "_qg5unZil-nP"
      },
      "outputs": [],
      "source": [
        "import matplotlib.pyplot as plt\n",
        "from sklearn.datasets import load_wine\n",
        "from sklearn.model_selection import train_test_split\n",
        "from sklearn.preprocessing import StandardScaler\n",
        "from sklearn.decomposition import PCA\n",
        "from sklearn.linear_model import LogisticRegression\n",
        "from sklearn.metrics import accuracy_score"
      ]
    },
    {
      "cell_type": "code",
      "source": [
        "wine = load_wine()\n",
        "X = wine.data\n",
        "Y = wine.target"
      ],
      "metadata": {
        "id": "nCiZuqURmxvE"
      },
      "execution_count": null,
      "outputs": []
    },
    {
      "cell_type": "code",
      "source": [
        "scaler = StandardScaler()\n",
        "X_scaled = scaler.fit_transform(X)"
      ],
      "metadata": {
        "id": "3EKiobbtm97w"
      },
      "execution_count": null,
      "outputs": []
    },
    {
      "cell_type": "code",
      "source": [
        "X_train , X_test , Y_train , Y_test = train_test_split(X_scaled , Y , test_size = 0.2 , random_state = 42, stratify=Y)"
      ],
      "metadata": {
        "id": "gEuOO9CUnFz_"
      },
      "execution_count": null,
      "outputs": []
    },
    {
      "cell_type": "code",
      "source": [
        "clf_no_pca = LogisticRegression(max_iter=500)\n",
        "clf_no_pca.fit(X_train , Y_train)\n",
        "Y_pred_no_pca = clf_no_pca.predict(X_test)\n",
        "acc_no_pca = accuracy_score(Y_test , Y_pred_no_pca)"
      ],
      "metadata": {
        "id": "ARybXLOrnop6"
      },
      "execution_count": null,
      "outputs": []
    },
    {
      "cell_type": "code",
      "source": [
        "pca=PCA(n_components=2)\n",
        "X_train_pca = pca.fit_transform(X_train)\n",
        "X_test_pca = pca.transform(X_test)"
      ],
      "metadata": {
        "id": "lWO1Djl0oCgR"
      },
      "execution_count": null,
      "outputs": []
    },
    {
      "cell_type": "code",
      "source": [
        "clf_pca = LogisticRegression(max_iter=500)\n",
        "clf_pca.fit(X_train_pca , Y_train)\n",
        "Y_pred_pca = clf_pca.predict(X_test_pca)\n",
        "acc_pca = accuracy_score(Y_test , Y_pred_pca)"
      ],
      "metadata": {
        "id": "VsP5jqr1oK3Z"
      },
      "execution_count": null,
      "outputs": []
    },
    {
      "cell_type": "code",
      "source": [
        "print(f\"Accuracy without PCA:\" ,acc_no_pca)\n",
        "print(f\"Accuracy with PCA:\" ,acc_pca)"
      ],
      "metadata": {
        "colab": {
          "base_uri": "https://localhost:8080/"
        },
        "id": "Tzxj5Q1fveLS",
        "outputId": "7ef65f9c-c1f3-41cc-fcf4-515db11ef7ec"
      },
      "execution_count": null,
      "outputs": [
        {
          "output_type": "stream",
          "name": "stdout",
          "text": [
            "Accuracy without PCA: 0.9722222222222222\n",
            "Accuracy with PCA: 0.9166666666666666\n"
          ]
        }
      ]
    }
  ]
}